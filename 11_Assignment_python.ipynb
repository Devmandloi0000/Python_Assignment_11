{
 "cells": [
  {
   "cell_type": "markdown",
   "id": "af5aeaaf",
   "metadata": {},
   "source": [
    "# 11_Assignment_python"
   ]
  },
  {
   "cell_type": "markdown",
   "id": "fba5ed50",
   "metadata": {},
   "source": [
    "1. What is the role of the 'else' block in a try-except statement? Provide an example\n",
    "scenario where it would be useful.\n",
    "2. Can a try-except block be nested inside another try-except block? Explain with an\n",
    "example.\n",
    "3. How can you create a custom exception class in Python? Provide an example that\n",
    "demonstrates its usage.\n",
    "4. What are some common exceptions that are built-in to Python?\n",
    "5. What is logging in Python, and why is it important in software development?\n",
    "6. Explain the purpose of log levels in Python logging and provide examples of when\n",
    "each log level would be appropriate.\n",
    "7. What are log formatters in Python logging, and how can you customise the log\n",
    "message format using formatters?\n",
    "8. How can you set up logging to capture log messages from multiple modules or\n",
    "classes in a Python application?\n",
    "9. What is the difference between the logging and print statements in Python? When\n",
    "should you use logging over print statements in a real-world application?\n",
    "10. Write a Python program that logs a message to a file named \"app.log\" with the\n",
    "following requirements:\n",
    "● The log message should be \"Hello, World!\"\n",
    "● The log level should be set to \"INFO.\"\n",
    "● The log file should append new log entries without overwriting previous ones.\n",
    "11. Create a Python program that logs an error message to the console and a file named\n",
    "\"errors.log\" if an exception occurs during the program's execution. The error\n",
    "message should include the exception type and a timestampb"
   ]
  },
  {
   "cell_type": "markdown",
   "id": "9fa7ee0c",
   "metadata": {},
   "source": [
    "# QUE(1)"
   ]
  },
  {
   "cell_type": "markdown",
   "id": "187c7219",
   "metadata": {},
   "source": [
    "1. What is the role of the 'else' block in a try-except statement? Provide an example\n",
    "scenario where it would be useful."
   ]
  },
  {
   "cell_type": "markdown",
   "id": "11ca7ae7",
   "metadata": {},
   "source": [
    "solution :-\n",
    "\n",
    "         else block is used in try - except statement which is used below the exception block \n",
    "         else block is execute when there is no error it mean that when there is no any exception "
   ]
  },
  {
   "cell_type": "code",
   "execution_count": 4,
   "id": "8b8851c2",
   "metadata": {},
   "outputs": [
    {
     "name": "stdout",
     "output_type": "stream",
     "text": [
      "enter any no here : 50\n",
      "enter any no here : 2\n",
      "25.0\n"
     ]
    }
   ],
   "source": [
    "try:\n",
    "    a = int(input(\"enter any no here : \"))\n",
    "    b = int(input(\"enter any no here : \"))\n",
    "    c = a/b\n",
    "except Exception as e:\n",
    "    print(e)\n",
    "else:\n",
    "    print(c) #----------->> this will gave an output when there is no any exception"
   ]
  },
  {
   "cell_type": "markdown",
   "id": "adab5cb1",
   "metadata": {},
   "source": [
    "# QUE(2)"
   ]
  },
  {
   "cell_type": "markdown",
   "id": "56ac11bd",
   "metadata": {},
   "source": [
    "2. Can a try-except block be nested inside another try-except block? Explain with an\n",
    "example."
   ]
  },
  {
   "cell_type": "markdown",
   "id": "1f8e8492",
   "metadata": {},
   "source": [
    "solution :- yes try block can be nested inside another try except block"
   ]
  },
  {
   "cell_type": "code",
   "execution_count": 11,
   "id": "66c3f6d3",
   "metadata": {},
   "outputs": [
    {
     "name": "stdout",
     "output_type": "stream",
     "text": [
      "enter digit of a : rqwr\n",
      "invalid literal for int() with base 10: 'rqwr' exception error\n"
     ]
    }
   ],
   "source": [
    "try:\n",
    "    a = int(input(\"enter digit of a : \"))\n",
    "    b = int(input(\"enter digit of b : \"))\n",
    "    try:\n",
    "        if a > b :\n",
    "            print(\"a is greater than b\")\n",
    "            c = a/b\n",
    "            print(c)\n",
    "        elif b > a:\n",
    "            print(\"b is greater than a\")\n",
    "            c = b/a\n",
    "            print(c)\n",
    "    except ValueError as v:\n",
    "        print(v, \"value error\")\n",
    "except Exception as e:\n",
    "    print(e,\"exception error\")"
   ]
  },
  {
   "cell_type": "markdown",
   "id": "159dcd02",
   "metadata": {},
   "source": [
    "# QUE(3)"
   ]
  },
  {
   "cell_type": "markdown",
   "id": "65df0c07",
   "metadata": {},
   "source": [
    "3. How can you create a custom exception class in Python? Provide an example that\n",
    "demonstrates its usage."
   ]
  },
  {
   "cell_type": "code",
   "execution_count": 22,
   "id": "f8b5cbae",
   "metadata": {},
   "outputs": [
    {
     "name": "stdout",
     "output_type": "stream",
     "text": [
      "enter your age : 13\n"
     ]
    },
    {
     "ename": "NameError",
     "evalue": "name 'NotEntryInClubException' is not defined",
     "output_type": "error",
     "traceback": [
      "\u001b[1;31m---------------------------------------------------------------------------\u001b[0m",
      "\u001b[1;31mNameError\u001b[0m                                 Traceback (most recent call last)",
      "Input \u001b[1;32mIn [22]\u001b[0m, in \u001b[0;36m<cell line: 3>\u001b[1;34m()\u001b[0m\n\u001b[0;32m      5\u001b[0m \u001b[38;5;28;01mif\u001b[39;00m person_age \u001b[38;5;241m<\u001b[39m adult_limit:\n\u001b[1;32m----> 6\u001b[0m     \u001b[38;5;28;01mraise\u001b[39;00m \u001b[43mNotEntryInClubException\u001b[49m \u001b[38;5;66;03m#---------- Raise an error this is custom error created by the user\u001b[39;00m\n\u001b[0;32m      7\u001b[0m \u001b[38;5;28;01melse\u001b[39;00m:\n",
      "\u001b[1;31mNameError\u001b[0m: name 'NotEntryInClubException' is not defined",
      "\nDuring handling of the above exception, another exception occurred:\n",
      "\u001b[1;31mNameError\u001b[0m                                 Traceback (most recent call last)",
      "Input \u001b[1;32mIn [22]\u001b[0m, in \u001b[0;36m<cell line: 3>\u001b[1;34m()\u001b[0m\n\u001b[0;32m      7\u001b[0m     \u001b[38;5;28;01melse\u001b[39;00m:\n\u001b[0;32m      8\u001b[0m         \u001b[38;5;28mprint\u001b[39m(\u001b[38;5;124m\"\u001b[39m\u001b[38;5;124myou are eligible for clubbing\u001b[39m\u001b[38;5;124m\"\u001b[39m)\n\u001b[1;32m----> 9\u001b[0m \u001b[38;5;28;01mexcept\u001b[39;00m \u001b[43mNotEntryInClubException\u001b[49m \u001b[38;5;28;01mas\u001b[39;00m NEC:\n\u001b[0;32m     10\u001b[0m     \u001b[38;5;28mprint\u001b[39m(NEC)\n",
      "\u001b[1;31mNameError\u001b[0m: name 'NotEntryInClubException' is not defined"
     ]
    }
   ],
   "source": [
    "adult_limit = 18\n",
    "\n",
    "try:\n",
    "    person_age = int(input(\"enter your age : \"))\n",
    "    if person_age < adult_limit:\n",
    "        raise NotEntryInClubException #---------- Raise an error this is custom error created by the user\n",
    "    else:\n",
    "        print(\"you are eligible for clubbing\")\n",
    "except NotEntryInClubException as NEC:\n",
    "    print(NEC)"
   ]
  },
  {
   "cell_type": "markdown",
   "id": "fec06e71",
   "metadata": {},
   "source": [
    "# QUE(4)"
   ]
  },
  {
   "cell_type": "markdown",
   "id": "a1d859db",
   "metadata": {},
   "source": [
    "4. What are some common exceptions that are built-in to Python?"
   ]
  },
  {
   "cell_type": "markdown",
   "id": "73f6315a",
   "metadata": {},
   "source": [
    "solution :- there are many exception error\n",
    "    \n",
    "        OverflowError\n",
    "        ZeroDivisionError\n",
    "        FloatingPointError\n",
    "        NameError\n",
    "        ValueError\n",
    "        EOFError\n",
    "        ImportError\n",
    "        FileExistsError\n",
    "        FileNotFoundError"
   ]
  },
  {
   "cell_type": "markdown",
   "id": "4f3a0f52",
   "metadata": {},
   "source": [
    "# QUE(5)"
   ]
  },
  {
   "cell_type": "markdown",
   "id": "a4a7ed24",
   "metadata": {},
   "source": [
    "5. What is logging in Python, and why is it important in software development?"
   ]
  },
  {
   "cell_type": "markdown",
   "id": "b5ebf5a0",
   "metadata": {},
   "source": [
    "solution :- logging are play important role in software development or any development beacuse by logging we can easy to               predict where an exception are occurs or error are occurs\n",
    "            \n",
    "            logging is mean of tracking\n",
    "            logging made work simple by detecting problems\n",
    "            \n",
    "            \n",
    "            there are 5 stage of logging\n",
    "            1) DEBUG\n",
    "            2) INFO\n",
    "            3) WARNING\n",
    "            4) CRITICAL\n",
    "            5) ERROR"
   ]
  },
  {
   "cell_type": "markdown",
   "id": "b010c099",
   "metadata": {},
   "source": [
    "# QUE(6)"
   ]
  },
  {
   "cell_type": "markdown",
   "id": "feaece21",
   "metadata": {},
   "source": [
    "6. Explain the purpose of log levels in Python logging and provide examples of when\n",
    "each log level would be appropriate."
   ]
  },
  {
   "cell_type": "markdown",
   "id": "e7fcf18f",
   "metadata": {},
   "source": [
    "Solution :-\n",
    "\n",
    "        here are 5 stage of logging\n",
    "        1) DEBUG -  10\n",
    "        2) INFO  -  20\n",
    "        3) WARNING - 30\n",
    "        4) ERROR  -  40\n",
    "        5) CRITICAL - 50"
   ]
  },
  {
   "cell_type": "markdown",
   "id": "f2ff2bfe",
   "metadata": {},
   "source": [
    "debug :- is used to details \n",
    "\n",
    "info :- infomation regard  working conditon\n",
    "    \n",
    "warning :- warn about the unexpected thing\n",
    "\n",
    "error :- there may be serious issue in a code\n",
    "    \n",
    "critical :- end of the programm by default error"
   ]
  },
  {
   "cell_type": "code",
   "execution_count": 40,
   "id": "9ffb329b",
   "metadata": {},
   "outputs": [],
   "source": [
    "import logging as lg\n",
    "\n",
    "lg.basicConfig(filename=\"11_Assignment_python.log\",level=lg.DEBUG,format=\"%(asctime)s : %(levelname)s : %(message)s\")\n",
    "\n",
    "class Logger:\n",
    "    \n",
    "    def detail(self,value1,value2):\n",
    "        self.value1 = value1\n",
    "        self.value2 = value2\n",
    "        lg.debug(\"first stage done\")\n",
    "        try:\n",
    "            if type(self.value1) == int and type(self.value2) == int:\n",
    "                a = value1 + value2\n",
    "                lg.info(a)\n",
    "                print(a)\n",
    "            else:\n",
    "                lg.info(a)\n",
    "                lg.warning(a)\n",
    "                lg.error(a)\n",
    "                lg.critical(a)\n",
    "        except Exception as e:\n",
    "            print(e)"
   ]
  },
  {
   "cell_type": "code",
   "execution_count": 41,
   "id": "66f81f1e",
   "metadata": {},
   "outputs": [],
   "source": [
    "l = Logger()"
   ]
  },
  {
   "cell_type": "code",
   "execution_count": 42,
   "id": "f1294f25",
   "metadata": {},
   "outputs": [
    {
     "name": "stdout",
     "output_type": "stream",
     "text": [
      "local variable 'a' referenced before assignment\n"
     ]
    }
   ],
   "source": [
    "l.detail(\"dev\",3)"
   ]
  },
  {
   "cell_type": "code",
   "execution_count": 43,
   "id": "7e0a6e05",
   "metadata": {},
   "outputs": [
    {
     "name": "stdout",
     "output_type": "stream",
     "text": [
      "15\n"
     ]
    }
   ],
   "source": [
    "l.detail(5,10)"
   ]
  },
  {
   "cell_type": "markdown",
   "id": "7b1208d5",
   "metadata": {},
   "source": [
    "  # QUE(7)"
   ]
  },
  {
   "cell_type": "markdown",
   "id": "63b24ee8",
   "metadata": {},
   "source": [
    "7. What are log formatters in Python logging, and how can you customise the log\n",
    "message format using formatters?"
   ]
  },
  {
   "cell_type": "markdown",
   "id": "ae0b78ad",
   "metadata": {},
   "source": [
    "solution :-\n",
    "    \n",
    "        in logging formatter are help for breifing the file details in form of date time and message and level therefore it helps alot"
   ]
  },
  {
   "cell_type": "code",
   "execution_count": null,
   "id": "c09aeb4d",
   "metadata": {},
   "outputs": [],
   "source": [
    "formatter are :- asctime , messgae , level ,created,funcName,levelno"
   ]
  },
  {
   "cell_type": "code",
   "execution_count": 44,
   "id": "6bbbd0f7",
   "metadata": {},
   "outputs": [],
   "source": [
    "import logging\n",
    "\n",
    "logging.basicConfig(filename=\"abcd.log\",level=logging.DEBUG,format=\"%(asctime)s : %(message)s\")"
   ]
  },
  {
   "cell_type": "markdown",
   "id": "37b8c147",
   "metadata": {},
   "source": [
    "# QUE(8)\n"
   ]
  },
  {
   "cell_type": "markdown",
   "id": "f1bfd680",
   "metadata": {},
   "source": [
    "8. How can you set up logging to capture log messages from multiple modules or\n",
    "classes in a Python application?"
   ]
  },
  {
   "cell_type": "markdown",
   "id": "ae17ef5a",
   "metadata": {},
   "source": [
    "solution :- by creating a logging format by this we easliy can capture a log message"
   ]
  },
  {
   "cell_type": "code",
   "execution_count": 45,
   "id": "73877ead",
   "metadata": {},
   "outputs": [
    {
     "name": "stderr",
     "output_type": "stream",
     "text": [
      "2023-07-11 23:21:01,060 - __name__ - DEBUG - debug message\n",
      "2023-07-11 23:21:01,061 - __name__ - INFO - info message\n",
      "2023-07-11 23:21:01,062 - __name__ - WARNING - warn message\n",
      "2023-07-11 23:21:01,063 - __name__ - ERROR - error message\n",
      "2023-07-11 23:21:01,064 - __name__ - CRITICAL - critical message\n"
     ]
    }
   ],
   "source": [
    "import logging\n",
    "\n",
    "\n",
    "logger = logging.getLogger('__name__')\n",
    "logger.setLevel(logging.DEBUG)\n",
    "\n",
    "\n",
    "ch = logging.StreamHandler()\n",
    "ch.setLevel(logging.DEBUG)\n",
    "\n",
    "\n",
    "formatter = logging.Formatter('%(asctime)s - %(name)s - %(levelname)s - %(message)s')\n",
    "\n",
    "\n",
    "ch.setFormatter(formatter)\n",
    "\n",
    "\n",
    "logger.addHandler(ch)\n",
    "\n",
    "\n",
    "logger.debug('debug message')\n",
    "logger.info('info message')\n",
    "logger.warning('warn message')\n",
    "logger.error('error message')\n",
    "logger.critical('critical message')"
   ]
  },
  {
   "cell_type": "markdown",
   "id": "e3865eba",
   "metadata": {},
   "source": [
    "  # QUE(9)"
   ]
  },
  {
   "cell_type": "markdown",
   "id": "43ef2f13",
   "metadata": {},
   "source": [
    "9. What is the difference between the logging and print statements in Python? When\n",
    "should you use logging over print statements in a real-world application?"
   ]
  },
  {
   "cell_type": "markdown",
   "id": "c2196027",
   "metadata": {},
   "source": [
    "solution :- \n",
    "\n",
    "\n",
    "           > logging and print statement both are differnt but they both play important role in real world                              \n",
    "           > logging can can be prefered more as compare to print because logging is used for tracking the program\n",
    "           > whereas print statement is only used when we want to print \n",
    "           > logging help to find condtion of a programm or track \n",
    "           > in print can not fixed define a problem but in logging easy to define problem or track by using the logging                        level\n",
    "           > in logging there are 5 stage which help too define or track error or working condtion of the program"
   ]
  },
  {
   "cell_type": "markdown",
   "id": "45f3ab2a",
   "metadata": {},
   "source": [
    "# QUE(10)"
   ]
  },
  {
   "cell_type": "markdown",
   "id": "7a77dfbf",
   "metadata": {},
   "source": [
    "10. Write a Python program that logs a message to a file named \"app.log\" with the\n",
    "following requirements:\n",
    "    \n",
    "● The log message should be \"Hello, World!\"\n",
    "\n",
    "● The log level should be set to \"INFO.\"\n",
    "\n",
    "● The log file should append new log entries without overwriting previous ones."
   ]
  },
  {
   "cell_type": "code",
   "execution_count": 58,
   "id": "71470549",
   "metadata": {},
   "outputs": [],
   "source": [
    "import logging \n",
    "\n",
    "logging.basicConfig(filename=\"app.log\", level=logging.INFO,format=\"%(message)s : %(levelname)s\")\n",
    "\n",
    "with open(\"app.log\",\"w+\") as files:\n",
    "    logging.info(files.write(\"Hello World!\"))\n",
    "    logging.info(files.write(\"dev\"))\n",
    "    "
   ]
  },
  {
   "cell_type": "markdown",
   "id": "93b49dbe",
   "metadata": {},
   "source": [
    "# QUE(11)"
   ]
  },
  {
   "cell_type": "markdown",
   "id": "5e4c1abc",
   "metadata": {},
   "source": [
    "11. Create a Python program that logs an error message to the console and a file named\n",
    "\"errors.log\" if an exception occurs during the program's execution. The error\n",
    "message should include the exception type and a timestampb"
   ]
  },
  {
   "cell_type": "code",
   "execution_count": 5,
   "id": "820f24a9",
   "metadata": {},
   "outputs": [
    {
     "name": "stdout",
     "output_type": "stream",
     "text": [
      "enter : 2\n",
      "enter : 0\n"
     ]
    },
    {
     "name": "stderr",
     "output_type": "stream",
     "text": [
      "--- Logging error ---\n",
      "Traceback (most recent call last):\n",
      "  File \"C:\\Users\\PCLP\\AppData\\Local\\Temp\\ipykernel_556\\3843383804.py\", line 8, in <cell line: 5>\n",
      "    c = a/b\n",
      "ZeroDivisionError: division by zero\n",
      "\n",
      "During handling of the above exception, another exception occurred:\n",
      "\n",
      "Traceback (most recent call last):\n",
      "  File \"C:\\Users\\PCLP\\anaconda3\\lib\\logging\\__init__.py\", line 1083, in emit\n",
      "    msg = self.format(record)\n",
      "  File \"C:\\Users\\PCLP\\anaconda3\\lib\\logging\\__init__.py\", line 927, in format\n",
      "    return fmt.format(record)\n",
      "  File \"C:\\Users\\PCLP\\anaconda3\\lib\\logging\\__init__.py\", line 663, in format\n",
      "    record.message = record.getMessage()\n",
      "  File \"C:\\Users\\PCLP\\anaconda3\\lib\\logging\\__init__.py\", line 367, in getMessage\n",
      "    msg = msg % self.args\n",
      "TypeError: not all arguments converted during string formatting\n",
      "Call stack:\n",
      "  File \"C:\\Users\\PCLP\\anaconda3\\lib\\runpy.py\", line 197, in _run_module_as_main\n",
      "    return _run_code(code, main_globals, None,\n",
      "  File \"C:\\Users\\PCLP\\anaconda3\\lib\\runpy.py\", line 87, in _run_code\n",
      "    exec(code, run_globals)\n",
      "  File \"C:\\Users\\PCLP\\anaconda3\\lib\\site-packages\\ipykernel_launcher.py\", line 16, in <module>\n",
      "    app.launch_new_instance()\n",
      "  File \"C:\\Users\\PCLP\\anaconda3\\lib\\site-packages\\traitlets\\config\\application.py\", line 846, in launch_instance\n",
      "    app.start()\n",
      "  File \"C:\\Users\\PCLP\\anaconda3\\lib\\site-packages\\ipykernel\\kernelapp.py\", line 677, in start\n",
      "    self.io_loop.start()\n",
      "  File \"C:\\Users\\PCLP\\anaconda3\\lib\\site-packages\\tornado\\platform\\asyncio.py\", line 199, in start\n",
      "    self.asyncio_loop.run_forever()\n",
      "  File \"C:\\Users\\PCLP\\anaconda3\\lib\\asyncio\\base_events.py\", line 601, in run_forever\n",
      "    self._run_once()\n",
      "  File \"C:\\Users\\PCLP\\anaconda3\\lib\\asyncio\\base_events.py\", line 1905, in _run_once\n",
      "    handle._run()\n",
      "  File \"C:\\Users\\PCLP\\anaconda3\\lib\\asyncio\\events.py\", line 80, in _run\n",
      "    self._context.run(self._callback, *self._args)\n",
      "  File \"C:\\Users\\PCLP\\anaconda3\\lib\\site-packages\\ipykernel\\kernelbase.py\", line 471, in dispatch_queue\n",
      "    await self.process_one()\n",
      "  File \"C:\\Users\\PCLP\\anaconda3\\lib\\site-packages\\ipykernel\\kernelbase.py\", line 460, in process_one\n",
      "    await dispatch(*args)\n",
      "  File \"C:\\Users\\PCLP\\anaconda3\\lib\\site-packages\\ipykernel\\kernelbase.py\", line 367, in dispatch_shell\n",
      "    await result\n",
      "  File \"C:\\Users\\PCLP\\anaconda3\\lib\\site-packages\\ipykernel\\kernelbase.py\", line 662, in execute_request\n",
      "    reply_content = await reply_content\n",
      "  File \"C:\\Users\\PCLP\\anaconda3\\lib\\site-packages\\ipykernel\\ipkernel.py\", line 360, in do_execute\n",
      "    res = shell.run_cell(code, store_history=store_history, silent=silent)\n",
      "  File \"C:\\Users\\PCLP\\anaconda3\\lib\\site-packages\\ipykernel\\zmqshell.py\", line 532, in run_cell\n",
      "    return super().run_cell(*args, **kwargs)\n",
      "  File \"C:\\Users\\PCLP\\anaconda3\\lib\\site-packages\\IPython\\core\\interactiveshell.py\", line 2863, in run_cell\n",
      "    result = self._run_cell(\n",
      "  File \"C:\\Users\\PCLP\\anaconda3\\lib\\site-packages\\IPython\\core\\interactiveshell.py\", line 2909, in _run_cell\n",
      "    return runner(coro)\n",
      "  File \"C:\\Users\\PCLP\\anaconda3\\lib\\site-packages\\IPython\\core\\async_helpers.py\", line 129, in _pseudo_sync_runner\n",
      "    coro.send(None)\n",
      "  File \"C:\\Users\\PCLP\\anaconda3\\lib\\site-packages\\IPython\\core\\interactiveshell.py\", line 3106, in run_cell_async\n",
      "    has_raised = await self.run_ast_nodes(code_ast.body, cell_name,\n",
      "  File \"C:\\Users\\PCLP\\anaconda3\\lib\\site-packages\\IPython\\core\\interactiveshell.py\", line 3309, in run_ast_nodes\n",
      "    if await self.run_code(code, result, async_=asy):\n",
      "  File \"C:\\Users\\PCLP\\anaconda3\\lib\\site-packages\\IPython\\core\\interactiveshell.py\", line 3369, in run_code\n",
      "    exec(code_obj, self.user_global_ns, self.user_ns)\n",
      "  File \"C:\\Users\\PCLP\\AppData\\Local\\Temp\\ipykernel_556\\3843383804.py\", line 12, in <cell line: 5>\n",
      "    logging.info(z, \"ZeroDivisionError\")\n",
      "Message: ZeroDivisionError('division by zero')\n",
      "Arguments: ('ZeroDivisionError',)\n"
     ]
    }
   ],
   "source": [
    "import logging \n",
    "\n",
    "logging.basicConfig(filename=\"error.log\", level=logging.INFO,format=\"%(message)s : %(asctime)s\")\n",
    "\n",
    "try:\n",
    "    a = int(input(\"enter : \"))\n",
    "    b = int(input(\"enter : \"))\n",
    "    c = a/b\n",
    "    logging.debug(c)\n",
    "    logging.info(\"first stage\")\n",
    "except ZeroDivisionError as z:\n",
    "    logging.info(z, \"ZeroDivisionError\")\n",
    "except ValueError as v:\n",
    "    logging.info(v, \"ValueError\")\n",
    "except NameError as n:\n",
    "    logging.info(n, \"NameError\")"
   ]
  },
  {
   "cell_type": "code",
   "execution_count": null,
   "id": "e05e0a35",
   "metadata": {},
   "outputs": [],
   "source": []
  }
 ],
 "metadata": {
  "kernelspec": {
   "display_name": "Python 3 (ipykernel)",
   "language": "python",
   "name": "python3"
  },
  "language_info": {
   "codemirror_mode": {
    "name": "ipython",
    "version": 3
   },
   "file_extension": ".py",
   "mimetype": "text/x-python",
   "name": "python",
   "nbconvert_exporter": "python",
   "pygments_lexer": "ipython3",
   "version": "3.9.12"
  }
 },
 "nbformat": 4,
 "nbformat_minor": 5
}
